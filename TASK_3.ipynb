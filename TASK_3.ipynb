{
  "nbformat": 4,
  "nbformat_minor": 0,
  "metadata": {
    "colab": {
      "private_outputs": true,
      "provenance": []
    },
    "kernelspec": {
      "name": "python3",
      "display_name": "Python 3"
    },
    "language_info": {
      "name": "python"
    }
  },
  "cells": [
    {
      "cell_type": "code",
      "execution_count": null,
      "metadata": {
        "id": "8m2Jbk2tVx66"
      },
      "outputs": [],
      "source": [
        "import pandas as pd\n",
        "import sqlite3"
      ]
    },
    {
      "cell_type": "code",
      "source": [
        "df = pd.read_csv('Customer_support_data.csv')"
      ],
      "metadata": {
        "id": "vE4Hb9zRV6SQ"
      },
      "execution_count": null,
      "outputs": []
    },
    {
      "cell_type": "code",
      "source": [
        "df.head()"
      ],
      "metadata": {
        "id": "B_RkcvWpWA11"
      },
      "execution_count": null,
      "outputs": []
    },
    {
      "cell_type": "code",
      "source": [
        "# Create in-memory SQLite database\n",
        "conn = sqlite3.connect(':memory:')\n",
        "df.to_sql('customer_support', conn, index=False, if_exists='replace')\n",
        "\n",
        "# Confirm table created\n",
        "pd.read_sql(\"SELECT * FROM customer_support LIMIT 5\", conn)"
      ],
      "metadata": {
        "id": "_ia-l8_XZn9o"
      },
      "execution_count": null,
      "outputs": []
    },
    {
      "cell_type": "code",
      "source": [
        "# 1. All 'Order Related' issues\n",
        "q1 = \"SELECT * FROM customer_support WHERE category = 'Order Related'\"\n",
        "pd.read_sql(q1, conn)"
      ],
      "metadata": {
        "id": "ZyIaySHAZrJO"
      },
      "execution_count": null,
      "outputs": []
    },
    {
      "cell_type": "code",
      "source": [
        "# 2. Top 5 most frequent Sub-categories\n",
        "q2 = \"\"\"\n",
        "SELECT \"Sub-category\", COUNT(*) AS issue_count\n",
        "FROM customer_support\n",
        "GROUP BY \"Sub-category\"\n",
        "ORDER BY issue_count DESC\n",
        "LIMIT 5\n",
        "\"\"\"\n",
        "pd.read_sql(q2, conn)"
      ],
      "metadata": {
        "id": "EurXEx2NaBCg"
      },
      "execution_count": null,
      "outputs": []
    },
    {
      "cell_type": "code",
      "source": [
        "# Create dummy agent_details table\n",
        "agent_details = pd.DataFrame({\n",
        "    'Agent_name': df['Agent_name'].dropna().unique()[:5],\n",
        "    'Experience': [1, 3, 5, 2, 4]\n",
        "})\n",
        "agent_details.to_sql('agent_details', conn, index=False, if_exists='replace')\n",
        "\n",
        "# 3. Join to add experience\n",
        "q3 = \"\"\"\n",
        "SELECT cs.*, ad.Experience\n",
        "FROM customer_support cs\n",
        "JOIN agent_details ad ON cs.Agent_name = ad.Agent_name\n",
        "\"\"\"\n",
        "pd.read_sql(q3, conn)"
      ],
      "metadata": {
        "id": "D9dnOpZGZwAd"
      },
      "execution_count": null,
      "outputs": []
    },
    {
      "cell_type": "code",
      "source": [
        "# 4. Agents who handled more than average number of issues\n",
        "q4 = \"\"\"\n",
        "SELECT Agent_name, COUNT(*) AS total_issues\n",
        "FROM customer_support\n",
        "GROUP BY Agent_name\n",
        "HAVING COUNT(*) > (\n",
        "    SELECT AVG(issue_count) FROM (\n",
        "        SELECT Agent_name, COUNT(*) AS issue_count\n",
        "        FROM customer_support\n",
        "        GROUP BY Agent_name\n",
        "    )\n",
        ")\n",
        "\"\"\"\n",
        "pd.read_sql(q4, conn)"
      ],
      "metadata": {
        "id": "AAkW2dBFZzVI"
      },
      "execution_count": null,
      "outputs": []
    },
    {
      "cell_type": "code",
      "source": [
        "# 5. Avg handling time per category\n",
        "q5 = \"\"\"\n",
        "SELECT category, AVG(CAST(connected_handling_time AS FLOAT)) AS avg_handling_time\n",
        "FROM customer_support\n",
        "GROUP BY category\n",
        "\"\"\"\n",
        "pd.read_sql(q5, conn)"
      ],
      "metadata": {
        "id": "wAvzqTuyZ30f"
      },
      "execution_count": null,
      "outputs": []
    },
    {
      "cell_type": "code",
      "source": [
        "# 6. Total item price per product category\n",
        "q6 = \"\"\"\n",
        "SELECT Product_category, SUM(CAST(Item_price AS FLOAT)) AS total_revenue\n",
        "FROM customer_support\n",
        "GROUP BY Product_category\n",
        "\"\"\"\n",
        "pd.read_sql(q6, conn)"
      ],
      "metadata": {
        "id": "R-obsAD6Z8kD"
      },
      "execution_count": null,
      "outputs": []
    },
    {
      "cell_type": "code",
      "source": [
        "# 7. Create view for Inbound performance\n",
        "q7 = \"\"\"\n",
        "CREATE VIEW inbound_summary AS\n",
        "SELECT category, \"Sub-category\", COUNT(*) AS total_issues,\n",
        "       AVG(CAST(\"CSAT Score\" AS FLOAT)) AS avg_CSAT\n",
        "FROM customer_support\n",
        "WHERE channel_name = 'Inbound'\n",
        "GROUP BY category, \"Sub-category\"\n",
        "\"\"\"\n",
        "conn.execute(q7)"
      ],
      "metadata": {
        "id": "WpYVbhu8aC93"
      },
      "execution_count": null,
      "outputs": []
    },
    {
      "cell_type": "code",
      "source": [
        "pd.read_sql(\"SELECT * FROM inbound_summary\", conn)"
      ],
      "metadata": {
        "id": "eZA8OcVkaHZt"
      },
      "execution_count": null,
      "outputs": []
    },
    {
      "cell_type": "code",
      "source": [
        "# 8. Add indexes for performance\n",
        "conn.execute(\"CREATE INDEX IF NOT EXISTS idx_category ON customer_support(category)\")\n",
        "conn.execute(\"CREATE INDEX IF NOT EXISTS idx_agent_name ON customer_support(Agent_name)\")\n",
        "conn.execute(\"CREATE INDEX IF NOT EXISTS idx_channel_category ON customer_support(channel_name, category)\")\n"
      ],
      "metadata": {
        "id": "RtOZDr2aaJrg"
      },
      "execution_count": null,
      "outputs": []
    },
    {
      "cell_type": "code",
      "source": [
        "#Top-performing agents by average CSAT score\n",
        "q1 = \"\"\"\n",
        "SELECT Agent_name, AVG(CAST(\"CSAT Score\" AS FLOAT)) AS avg_score\n",
        "FROM customer_support\n",
        "GROUP BY Agent_name\n",
        "ORDER BY avg_score DESC\n",
        "LIMIT 5;\n",
        "\"\"\"\n",
        "top_agents = pd.read_sql(q1, conn)\n",
        "top_agents"
      ],
      "metadata": {
        "id": "jciKar3Gawfz"
      },
      "execution_count": null,
      "outputs": []
    },
    {
      "cell_type": "code",
      "source": [
        "#Average handling time by Sub-category and Agent\n",
        "q2 = \"\"\"\n",
        "SELECT \"Sub-category\", Agent_name, AVG(CAST(connected_handling_time AS FLOAT)) AS avg_time\n",
        "FROM customer_support\n",
        "GROUP BY \"Sub-category\", Agent_name\n",
        "ORDER BY avg_time ASC;\n",
        "\"\"\"\n",
        "avg_time = pd.read_sql(q2, conn)\n",
        "avg_time"
      ],
      "metadata": {
        "id": "KFF1KelcazHO"
      },
      "execution_count": null,
      "outputs": []
    },
    {
      "cell_type": "code",
      "source": [
        "#Category-wise resolution effectiveness using CSAT score\n",
        "q3 = \"\"\"\n",
        "SELECT category, COUNT(*) AS total, AVG(CAST(\"CSAT Score\" AS FLOAT)) AS avg_CSAT\n",
        "FROM customer_support\n",
        "GROUP BY category\n",
        "ORDER BY avg_CSAT DESC;\n",
        "\"\"\"\n",
        "category_effectiveness = pd.read_sql(q3, conn)\n",
        "category_effectiveness"
      ],
      "metadata": {
        "id": "6V3glmyHa4nN"
      },
      "execution_count": null,
      "outputs": []
    },
    {
      "cell_type": "code",
      "source": [
        "#Using CASE: Categorizing CSAT Levels\n",
        "q4 = \"\"\"\n",
        "SELECT\n",
        "  Agent_name,\n",
        "  CASE\n",
        "    WHEN \"CSAT Score\" >= 4 THEN 'High'\n",
        "    WHEN \"CSAT Score\" >= 2 THEN 'Medium'\n",
        "    ELSE 'Low'\n",
        "  END AS CSAT_Level,\n",
        "  COUNT(*) AS issue_count\n",
        "FROM customer_support\n",
        "GROUP BY Agent_name, CSAT_Level;\n",
        "\"\"\"\n",
        "csat_levels = pd.read_sql(q4, conn)\n",
        "csat_levels"
      ],
      "metadata": {
        "id": "G1F5T4Qca8AC"
      },
      "execution_count": null,
      "outputs": []
    },
    {
      "cell_type": "code",
      "source": [],
      "metadata": {
        "id": "oaElrsYga968"
      },
      "execution_count": null,
      "outputs": []
    }
  ]
}